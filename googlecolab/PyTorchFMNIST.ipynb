{
  "nbformat": 4,
  "nbformat_minor": 0,
  "metadata": {
    "colab": {
      "name": "PyTorchFMNIST.ipynb",
      "version": "0.3.2",
      "provenance": [],
      "collapsed_sections": [],
      "include_colab_link": true
    },
    "kernelspec": {
      "name": "python3",
      "display_name": "Python 3"
    },
    "accelerator": "GPU"
  },
  "cells": [
    {
      "cell_type": "markdown",
      "metadata": {
        "id": "view-in-github",
        "colab_type": "text"
      },
      "source": [
        "<a href=\"https://colab.research.google.com/github/SarthakNarayan/DL-and-ML/blob/master/googlecolab/PyTorchFMNIST.ipynb\" target=\"_parent\"><img src=\"https://colab.research.google.com/assets/colab-badge.svg\" alt=\"Open In Colab\"/></a>"
      ]
    },
    {
      "cell_type": "code",
      "metadata": {
        "id": "H542u2hW1ABK",
        "colab_type": "code",
        "outputId": "4246948d-c395-42cd-fb68-59d275398f91",
        "colab": {
          "base_uri": "https://localhost:8080/",
          "height": 34
        }
      },
      "source": [
        "import torch\n",
        "import torchvision\n",
        "import torch.nn as nn\n",
        "import torch.nn.functional as F\n",
        "import torch.optim as optim\n",
        "import torchvision.transforms as transforms\n",
        "import time\n",
        "\n",
        "device = torch.device(\"cuda:0\" if torch.cuda.is_available() else \"cpu\")\n",
        "print(device)"
      ],
      "execution_count": 42,
      "outputs": [
        {
          "output_type": "stream",
          "text": [
            "cuda:0\n"
          ],
          "name": "stdout"
        }
      ]
    },
    {
      "cell_type": "code",
      "metadata": {
        "id": "06yy8_0feb_W",
        "colab_type": "code",
        "colab": {}
      },
      "source": [
        "# Loading the data\n",
        "transform = transforms.Compose(\n",
        "    [transforms.ToTensor()])\n",
        "\n",
        "trainset = torchvision.datasets.FashionMNIST(root='./data', train=True,\n",
        "                                        download=True, transform=transform)\n",
        "\n",
        "testset = torchvision.datasets.FashionMNIST(root='./data', train=False,\n",
        "                                       download=True, transform=transform)\n",
        "\n",
        "# classes = ('plane', 'car', 'bird', 'cat',\n",
        "#            'deer', 'dog', 'frog', 'horse', 'ship', 'truck')"
      ],
      "execution_count": 0,
      "outputs": []
    },
    {
      "cell_type": "code",
      "metadata": {
        "id": "KImB-m0F9fHJ",
        "colab_type": "code",
        "colab": {}
      },
      "source": [
        "trainloader = torch.utils.data.DataLoader(trainset, batch_size=4,\n",
        "                                          shuffle=True, num_workers=2)\n",
        "\n",
        "testloader = torch.utils.data.DataLoader(testset, batch_size=4,\n",
        "                                         shuffle=False, num_workers=2)"
      ],
      "execution_count": 0,
      "outputs": []
    },
    {
      "cell_type": "code",
      "metadata": {
        "id": "FXKrb6kuhTVd",
        "colab_type": "code",
        "collapsed": true,
        "outputId": "bfa19059-b4b4-4fe6-c3f2-5d87bfc9370d",
        "colab": {
          "base_uri": "https://localhost:8080/",
          "height": 155
        }
      },
      "source": [
        "# Model Creation\n",
        "# Input size of the image is 32*32\n",
        "class Net(nn.Module):\n",
        "  def __init__(self):\n",
        "    super(Net, self).__init__()\n",
        "    self.conv1 = nn.Conv2d(1, 6, 5)\n",
        "    # First is the kernel size then stride in MaxPool2d\n",
        "    # reduces height and width by 2\n",
        "    # We use thr=e same MaxPool2d layer twice\n",
        "    self.pool = nn.MaxPool2d(2, 2)\n",
        "    self.conv2 = nn.Conv2d(6, 16, 5)\n",
        "    self.fc1 = nn.Linear(16 * 4 * 4, 120)\n",
        "    self.fc2 = nn.Linear(120, 84)\n",
        "    self.fc3 = nn.Linear(84, 10)\n",
        "\n",
        "  def forward(self, x):\n",
        "      x = self.pool(F.relu(self.conv1(x)))\n",
        "      x = self.pool(F.relu(self.conv2(x)))\n",
        "      x = x.view(-1, 16 * 4 * 4)\n",
        "      x = F.relu(self.fc1(x))\n",
        "      x = F.relu(self.fc2(x))\n",
        "      x = self.fc3(x)\n",
        "      return x\n",
        "\n",
        "net = Net()\n",
        "# changes for cuda\n",
        "net.to(device)"
      ],
      "execution_count": 47,
      "outputs": [
        {
          "output_type": "execute_result",
          "data": {
            "text/plain": [
              "Net(\n",
              "  (conv1): Conv2d(1, 6, kernel_size=(5, 5), stride=(1, 1))\n",
              "  (pool): MaxPool2d(kernel_size=2, stride=2, padding=0, dilation=1, ceil_mode=False)\n",
              "  (conv2): Conv2d(6, 16, kernel_size=(5, 5), stride=(1, 1))\n",
              "  (fc1): Linear(in_features=256, out_features=120, bias=True)\n",
              "  (fc2): Linear(in_features=120, out_features=84, bias=True)\n",
              "  (fc3): Linear(in_features=84, out_features=10, bias=True)\n",
              ")"
            ]
          },
          "metadata": {
            "tags": []
          },
          "execution_count": 47
        }
      ]
    },
    {
      "cell_type": "code",
      "metadata": {
        "id": "aAYa0SiytT-T",
        "colab_type": "code",
        "collapsed": true,
        "colab": {}
      },
      "source": [
        "# Training\n",
        "num_epochs = 10\n",
        "criterion = nn.CrossEntropyLoss()\n",
        "optimizer = optim.SGD(net.parameters(), lr=0.001, momentum=0.9)\n",
        "\n",
        "start_time = time.time()\n",
        "for epoch in range(num_epochs):\n",
        "  running_loss = 0.0\n",
        "  for i,data in enumerate(trainloader):\n",
        "    # Changes for cuda\n",
        "    images , labels = data\n",
        "    images = images.to(device)\n",
        "    labels = labels.to(device)\n",
        "    optimizer.zero_grad()\n",
        "    output = net(images)\n",
        "    loss = criterion(output , labels)\n",
        "    loss.backward()\n",
        "    optimizer.step()\n",
        "    \n",
        "    # Printing stats\n",
        "    running_loss += loss.item()\n",
        "    if i % 1000 == 999:    # print every 2000 mini-batches\n",
        "      print('[%d, %5d] loss: %.10f' % (epoch + 1, i + 1, running_loss / 1000.0))\n",
        "      running_loss = 0.0\n",
        "end_time = time.time()\n",
        "total_time = end_time - start_time\n",
        "print(\"Total time taken : {}\".format(total_time))"
      ],
      "execution_count": 0,
      "outputs": []
    },
    {
      "cell_type": "code",
      "metadata": {
        "id": "txn5gdJP-GQ3",
        "colab_type": "code",
        "collapsed": true,
        "outputId": "c5b50acf-29ac-4540-93f7-a010b9ee99d3",
        "colab": {
          "base_uri": "https://localhost:8080/",
          "height": 69
        }
      },
      "source": [
        "# Testing\n",
        "test_images , test_labels = next(iter(testloader))\n",
        "# For cuda \n",
        "test_images = test_images.to(device)\n",
        "test_labels = test_labels.to(device)\n",
        "test_output = net(test_images)\n",
        "values , prediction_idx = torch.max(test_output , 1)\n",
        "print(\"Expected values\")\n",
        "print(test_labels)\n",
        "print(prediction_idx)"
      ],
      "execution_count": 53,
      "outputs": [
        {
          "output_type": "stream",
          "text": [
            "Expected values\n",
            "tensor([9, 2, 1, 1], device='cuda:0')\n",
            "tensor([9, 2, 1, 1], device='cuda:0')\n"
          ],
          "name": "stdout"
        }
      ]
    },
    {
      "cell_type": "code",
      "metadata": {
        "id": "IA9pgZJBAeH9",
        "colab_type": "code",
        "collapsed": true,
        "outputId": "85858a2b-7a11-4752-f93b-21c0b73fb1bf",
        "colab": {
          "base_uri": "https://localhost:8080/",
          "height": 86
        }
      },
      "source": [
        "# Getting the accuracy\n",
        "correct = 0\n",
        "total = 0\n",
        "\n",
        "start_times = time.time()\n",
        "with torch.no_grad():\n",
        "  for data in testloader:\n",
        "    test_images , test_labels = data\n",
        "    test_images = test_images.to(device)\n",
        "    test_labels = test_labels.to(device)\n",
        "    output = net(test_images)\n",
        "    _ , predictions_idx = torch.max(output , 1)\n",
        "    total = total + len(test_images)\n",
        "    \n",
        "    for i in range(len(test_images)):\n",
        "      if(test_labels[i].item() == predictions_idx[i].item()):\n",
        "        correct = correct + 1\n",
        "\n",
        "print(total)\n",
        "print(correct)\n",
        "end_times = time.time()\n",
        "total_times = end_times - start_times\n",
        "print('Accuracy of the network on the 10000 test images: %d %%' % (100 * correct / total))\n",
        "print(\"Total time taken : {}\".format(total_times))"
      ],
      "execution_count": 54,
      "outputs": [
        {
          "output_type": "stream",
          "text": [
            "10000\n",
            "8312\n",
            "Accuracy of the network on the 10000 test images: 83 %\n",
            "Total time taken : 6.193043231964111\n"
          ],
          "name": "stdout"
        }
      ]
    },
    {
      "cell_type": "code",
      "metadata": {
        "id": "xdcBUVUvX5ND",
        "colab_type": "code",
        "colab": {}
      },
      "source": [
        "# saving the model\n",
        "from google.colab import drive\n",
        "drive.mount('/content/gdrive')"
      ],
      "execution_count": 0,
      "outputs": []
    },
    {
      "cell_type": "code",
      "metadata": {
        "id": "3NbMXhgQYVCD",
        "colab_type": "code",
        "colab": {}
      },
      "source": [
        "# To save\n",
        "# Only saves the weights and the network\n",
        "torch.save(net.state_dict(), '/content/gdrive/My Drive/Colab Notebooks/net.pth')"
      ],
      "execution_count": 0,
      "outputs": []
    },
    {
      "cell_type": "code",
      "metadata": {
        "id": "ut77Yxgma3oD",
        "colab_type": "code",
        "colab": {}
      },
      "source": [
        "# To load\n",
        "# we have to load the model first since it doesnot save the model\n",
        "net_loaded = Net()\n",
        "net_loaded.to(device)\n",
        "net_loaded.load_state_dict(torch.load('/content/gdrive/My Drive/Colab Notebooks/net.pth')) \n",
        "net_loaded.eval()\n",
        "print(\"model loaded\")"
      ],
      "execution_count": 0,
      "outputs": []
    },
    {
      "cell_type": "code",
      "metadata": {
        "id": "3Mf927G1cJA7",
        "colab_type": "code",
        "colab": {
          "base_uri": "https://localhost:8080/",
          "height": 69
        },
        "outputId": "0618ec93-e70e-4814-b365-d6bbd8f840e4"
      },
      "source": [
        "test_images , test_labels = next(iter(testloader))\n",
        "# For cuda \n",
        "test_images = test_images.to(device)\n",
        "test_labels = test_labels.to(device)\n",
        "test_output = net_loaded(test_images)\n",
        "values , prediction_idx = torch.max(test_output , 1)\n",
        "print(\"Expected values\")\n",
        "print(test_labels)\n",
        "print(prediction_idx)"
      ],
      "execution_count": 63,
      "outputs": [
        {
          "output_type": "stream",
          "text": [
            "Expected values\n",
            "tensor([9, 2, 1, 1], device='cuda:0')\n",
            "tensor([9, 2, 1, 1], device='cuda:0')\n"
          ],
          "name": "stdout"
        }
      ]
    },
    {
      "cell_type": "markdown",
      "metadata": {
        "id": "cLh9-BfngciZ",
        "colab_type": "text"
      },
      "source": [
        "Saving the model and weights"
      ]
    },
    {
      "cell_type": "code",
      "metadata": {
        "id": "-qH1nN1Aggwq",
        "colab_type": "code",
        "colab": {
          "base_uri": "https://localhost:8080/",
          "height": 89
        },
        "outputId": "fab73847-6054-445e-f8e3-30a52fdad140"
      },
      "source": [
        "torch.save(net, '/content/gdrive/My Drive/Colab Notebooks/netfullmodel.pth')\n",
        "print(\"Model saved\")"
      ],
      "execution_count": 64,
      "outputs": [
        {
          "output_type": "stream",
          "text": [
            "Model saved\n"
          ],
          "name": "stdout"
        },
        {
          "output_type": "stream",
          "text": [
            "/usr/local/lib/python3.6/dist-packages/torch/serialization.py:256: UserWarning: Couldn't retrieve source code for container of type Net. It won't be checked for correctness upon loading.\n",
            "  \"type \" + obj.__name__ + \". It won't be checked \"\n"
          ],
          "name": "stderr"
        }
      ]
    },
    {
      "cell_type": "code",
      "metadata": {
        "id": "qdvgZeMwg-CY",
        "colab_type": "code",
        "colab": {
          "base_uri": "https://localhost:8080/",
          "height": 34
        },
        "outputId": "743d8b16-86b2-49db-85ec-db84e62efd59"
      },
      "source": [
        "model = torch.load('/content/gdrive/My Drive/Colab Notebooks/netfullmodel.pth')\n",
        "model.eval()\n",
        "print(\"Model loaded\")"
      ],
      "execution_count": 66,
      "outputs": [
        {
          "output_type": "stream",
          "text": [
            "Model loaded\n"
          ],
          "name": "stdout"
        }
      ]
    },
    {
      "cell_type": "code",
      "metadata": {
        "id": "Xqd8k1-ghIXc",
        "colab_type": "code",
        "colab": {
          "base_uri": "https://localhost:8080/",
          "height": 69
        },
        "outputId": "1caa05e0-82cc-4767-d8ba-4abeaf11f69e"
      },
      "source": [
        "test_images , test_labels = next(iter(testloader))\n",
        "# For cuda \n",
        "test_images = test_images.to(device)\n",
        "test_labels = test_labels.to(device)\n",
        "test_output = model(test_images)\n",
        "values , prediction_idx = torch.max(test_output , 1)\n",
        "print(\"Expected values\")\n",
        "print(test_labels)\n",
        "print(prediction_idx)"
      ],
      "execution_count": 67,
      "outputs": [
        {
          "output_type": "stream",
          "text": [
            "Expected values\n",
            "tensor([9, 2, 1, 1], device='cuda:0')\n",
            "tensor([9, 2, 1, 1], device='cuda:0')\n"
          ],
          "name": "stdout"
        }
      ]
    }
  ]
}