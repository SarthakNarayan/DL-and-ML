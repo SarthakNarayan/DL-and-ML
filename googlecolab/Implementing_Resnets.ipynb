{
  "nbformat": 4,
  "nbformat_minor": 0,
  "metadata": {
    "colab": {
      "name": "Implementing Resnets.ipynb",
      "version": "0.3.2",
      "provenance": [],
      "collapsed_sections": [],
      "include_colab_link": true
    },
    "kernelspec": {
      "name": "python3",
      "display_name": "Python 3"
    },
    "accelerator": "GPU"
  },
  "cells": [
    {
      "cell_type": "markdown",
      "metadata": {
        "id": "view-in-github",
        "colab_type": "text"
      },
      "source": [
        "<a href=\"https://colab.research.google.com/github/SarthakNarayan/DL-and-ML/blob/master/googlecolab/Implementing_Resnets.ipynb\" target=\"_parent\"><img src=\"https://colab.research.google.com/assets/colab-badge.svg\" alt=\"Open In Colab\"/></a>"
      ]
    },
    {
      "cell_type": "markdown",
      "metadata": {
        "id": "DSf375yq5pTZ",
        "colab_type": "text"
      },
      "source": [
        "###Colors section"
      ]
    },
    {
      "cell_type": "code",
      "metadata": {
        "id": "481BnLVK5ozK",
        "colab_type": "code",
        "colab": {}
      },
      "source": [
        "class color:\n",
        "    PURPLE = '\\033[95m'\n",
        "    CYAN = '\\033[96m'\n",
        "    DARKCYAN = '\\033[36m'\n",
        "    BLUE = '\\033[94m'\n",
        "    GREEN = '\\033[92m'\n",
        "    YELLOW = '\\033[93m'\n",
        "    RED = '\\033[91m'\n",
        "    BOLD = '\\033[1m'\n",
        "    UNDERLINE = '\\033[4m'\n",
        "    END = '\\033[0m'\n",
        "\n",
        "# print (color.GREEN + 'Hello World !' )\n",
        "# print(\"happens if u dont end it\")\n",
        "# print(color.END)\n",
        "# print(\"will not happen now\")"
      ],
      "execution_count": 0,
      "outputs": []
    },
    {
      "cell_type": "markdown",
      "metadata": {
        "id": "k2HAQWnY5pDJ",
        "colab_type": "text"
      },
      "source": [
        "###Imports Section"
      ]
    },
    {
      "cell_type": "code",
      "metadata": {
        "id": "P7K9uLfPYjiw",
        "colab_type": "code",
        "colab": {}
      },
      "source": [
        "import torch\n",
        "import torchvision\n",
        "from torch import nn\n",
        "import torch.nn.functional as F\n",
        "from torchvision import models"
      ],
      "execution_count": 0,
      "outputs": []
    },
    {
      "cell_type": "markdown",
      "metadata": {
        "id": "lv7eDjkJT3dP",
        "colab_type": "text"
      },
      "source": [
        "##ResNet 50,101,152 architecture\n",
        "https://github.com/pytorch/vision/blob/master/torchvision/models/resnet.py"
      ]
    },
    {
      "cell_type": "markdown",
      "metadata": {
        "id": "7MmO772EnihC",
        "colab_type": "text"
      },
      "source": [
        "![alt text](https://www.codeproject.com/KB/AI/1248963/resnet.png)<br/>\n",
        "You can see the layer count on the top right hand corner.<br/>\n",
        "They use bottleneck blocks whereas as ResNet 18 and 34 uses basic blocks<br/>\n",
        "You can see number of blocks information below\n",
        "![alt text](https://cdn-images-1.medium.com/max/1600/1*aq0q7gCvuNUqnMHh4cpnIw.png)"
      ]
    },
    {
      "cell_type": "markdown",
      "metadata": {
        "id": "GP3vRle5XrtO",
        "colab_type": "text"
      },
      "source": [
        "###Implementing Basic Block\n"
      ]
    },
    {
      "cell_type": "markdown",
      "metadata": {
        "id": "FUzLSOKxYafp",
        "colab_type": "text"
      },
      "source": [
        "![alt text](https://raw.githubusercontent.com/torch/torch.github.io/master/blog/_posts/images/resnets_1.png)\n",
        "\n",
        "Resnet Image<br/>\n",
        "Here dotted skip connections imply change of dimension like from 64 to 128, from 128 to 256 and so on.\n",
        "![alt text](https://storage.googleapis.com/kaggle-datasets-images/6885/9959/d9e74a548a8cdca167b38520ac8bf405/data-original.png?t=2017-12-12-23-54-44)"
      ]
    },
    {
      "cell_type": "code",
      "metadata": {
        "id": "n-Iv7v6UXrPB",
        "colab_type": "code",
        "colab": {}
      },
      "source": [
        "class BasicBlock(nn.Module):\n",
        "    expansion = 1\n",
        "    def __init__(self , input_channels , output_channels , stride = 1 , dim_change = None):\n",
        "        super(BasicBlock , self).__init__()\n",
        "        # First stride may differ. It can be 2 but then always 1\n",
        "        self.conv1 = nn.Conv2d(input_channels , output_channels , stride = stride , kernel_size = 3 , padding = 1)\n",
        "        self.bn1 = nn.BatchNorm2d(output_channels)\n",
        "        self.conv2 = nn.Conv2d(output_channels , output_channels , stride = 1 , kernel_size = 3 , padding = 1)\n",
        "        self.bn2 = nn.BatchNorm2d(output_channels)\n",
        "        self.dim_change = dim_change\n",
        "        \n",
        "    def forward(self , x):\n",
        "        residual_connection = x\n",
        "        output = F.relu(self.bn1(self.conv1(x)))\n",
        "        # No relu here since we have to add\n",
        "        output = self.bn2(self.conv2(output))\n",
        "        \n",
        "        #But first we will check for dimension change\n",
        "        if self.dim_change is not None:\n",
        "            residual_connection = self.dim_change(residual_connection)\n",
        "            \n",
        "        output = residual_connection + output\n",
        "        output = F.relu(output)\n",
        "        return output\n",
        "    \n",
        "# basic_block = BasicBlock(input_channels = 3, output_channels = 64, stride = 2)\n",
        "# print(basic_block)"
      ],
      "execution_count": 0,
      "outputs": []
    },
    {
      "cell_type": "markdown",
      "metadata": {
        "id": "fl0yMjK9Xx6P",
        "colab_type": "text"
      },
      "source": [
        "###Implementing Bottle neck block"
      ]
    },
    {
      "cell_type": "code",
      "metadata": {
        "id": "5MibmqVslH1s",
        "colab_type": "code",
        "colab": {}
      },
      "source": [
        "class BottleNeck(nn.Module):\n",
        "    # expansion will be used later when we define the full network\n",
        "    expansion = 4\n",
        "    def __init__(self , input_channels , output_channels , stride = 1 , dim_change = None):\n",
        "        super(BottleNeck , self).__init__()\n",
        "        self.conv1 = nn.Conv2d(input_channels , output_channels , stride = 1 , padding = 1 , kernel_size = 1)\n",
        "        self.bn1 = nn.Conv2d(output_channels)\n",
        "        self.conv2 = nn.Conv2d(output_channels , output_channels , stride = stride , padding = 1 , kernel_size = 3)\n",
        "        self.bn2 = nn.Conv2d(output_channels)\n",
        "        self.conv3 = nn.Conv2d(output_channels , output_channels*4 , stride = 1 , padding = 1 , kernel_size = 3)\n",
        "        self.bn3 = nn.Conv2d(output_channels*4)\n",
        "        self.dim_change = dim_change\n",
        "        \n",
        "    def forward(self , x):\n",
        "        residual_connection = x\n",
        "        output = F.relu(self.bn1(self.conv1(output)))\n",
        "        output = F.relu(self.bn2(self.conv2(output)))\n",
        "        output = self.bn3(self.conv3(output))\n",
        "        \n",
        "        if self.dim_change is not None:\n",
        "            residual_connection = self.dim_change(residual_connection)\n",
        "            \n",
        "        output = output + residual_connection\n",
        "        output = F.relu(output)\n",
        "        return output\n",
        "    "
      ],
      "execution_count": 0,
      "outputs": []
    },
    {
      "cell_type": "markdown",
      "metadata": {
        "id": "yxDon0sUnUpO",
        "colab_type": "text"
      },
      "source": [
        "###Assembling the network"
      ]
    },
    {
      "cell_type": "code",
      "metadata": {
        "id": "mUFfnJNTnYMa",
        "colab_type": "code",
        "colab": {}
      },
      "source": [
        "class ResNets(nn.Module):\n",
        "    def __init__(self , block , num_layers , classes = 10):\n",
        "        '''\n",
        "        The block can be bottleneck block or basic block and num_layers is the\n",
        "        number of layers required for each block. num_layers will be a list\n",
        "        '''\n",
        "        super(ResNets , self).__init__()\n",
        "        self.input_size = 64\n",
        "        # First layer in all is 7*7 convolution with stride 2\n",
        "        self.conv1 = nn.Conv2d(3, 64 , stride = 2 , kernel_size = 7)\n",
        "        self.bn1 = nn.BatchNorm2d(64)\n",
        "        self.maxpool = nn.MaxPool2d(kernel_size=3, stride=2, padding=1)\n",
        "        # These 4 segments form the starting part. Then we can start our layers\n",
        "        \n",
        "        # here _layer is a private function defined later in this block\n",
        "        # after the first one stride for all others are 2\n",
        "        self.layer1 = self._layer(block , 64 , num_layers[0] , stride = 1)\n",
        "        self.layer2 = self._layer(block , 128 , num_layers[1] , stride = 2)\n",
        "        self.layer3 = self._layer(block , 256 , num_layers[2] , stride = 2)\n",
        "        self.layer4 = self._layer(block , 512 , num_layers[3] , stride = 2)\n",
        "        \n",
        "        # then the end part\n",
        "        self.avgpool = nn.AvgPool2d(kernel_size = 4 , stride = 1)\n",
        "        self.fc = nn.Linear(512*block.expansion , classes)\n",
        "        \n",
        "    def _layer(self , block , input_size ,num_layers , stride=1):\n",
        "        dim_change = None\n",
        "        # we have to find the condition for change of dimensions\n",
        "        # basically saying that change for dimensions 128,256,512\n",
        "        # input size gets updated later\n",
        "        if stride!=1 or input_size!=self.input_size*block.expansion:\n",
        "            dim_change = nn.Sequential(nn.Conv2d(self.input_size , input_size*block.expansion , kernel_size = 1 , stride = stride),\n",
        "                                       nn.BatchNorm2d(input_size*block.expansion))\n",
        "            \n",
        "        net_layers = []\n",
        "        # appending the layers\n",
        "        net_layers.append(block(self.input_size , input_size , stride , dim_change))\n",
        "        self.input_size = input_size*block.expansion\n",
        "        for i in range(1,num_layers):\n",
        "            net_layers.append(block(self.input_size , input_size))\n",
        "\n",
        "        return nn.Sequential(*net_layers)\n",
        "        \n",
        "    def forward(self , x):\n",
        "        # The beginning \n",
        "        x = F.relu(self.maxpool(self.bn1(self.conv1(x))))\n",
        "        \n",
        "        # The layers\n",
        "        x = self.layer1(x)\n",
        "        x = self.layer2(x)\n",
        "        x = self.layer3(x)\n",
        "        x = self.layer4(x)\n",
        "        \n",
        "        x = self.avgpool(x)\n",
        "        # first element is always the batch size \n",
        "        x = x.reshape(x.size(0) , -1)\n",
        "        x = self.fc(x)\n",
        "        return x      \n",
        "        "
      ],
      "execution_count": 0,
      "outputs": []
    },
    {
      "cell_type": "markdown",
      "metadata": {
        "id": "Ho2VWFE24LZs",
        "colab_type": "text"
      },
      "source": [
        "###Creating Resnets"
      ]
    },
    {
      "cell_type": "code",
      "metadata": {
        "id": "fd3HqO7l4LzR",
        "colab_type": "code",
        "colab": {
          "base_uri": "https://localhost:8080/",
          "height": 1000
        },
        "collapsed": true,
        "outputId": "8a34b050-5764-4cd9-89c1-b78015969648"
      },
      "source": [
        "def Creating_Resnets():\n",
        "    # Resnet 18\n",
        "    resnet18 = ResNets(BasicBlock , [2,2,2,2] , 10)\n",
        "    print(resnet18)\n",
        "    # for comparing \n",
        "    builtin_resnet18 = models.resnet18()\n",
        "    print(color.RED + \"\\n Built in Resnet for comparison \\n\" + color.END)\n",
        "    print(builtin_resnet18)\n",
        "    \n",
        "    # for other resnets like 50\n",
        "#     resnet50 = ResNets(BottleNeck , [3,4,6,3] , 10)\n",
        "#     print(resnet50)\n",
        "    \n",
        "Creating_Resnets()"
      ],
      "execution_count": 47,
      "outputs": [
        {
          "output_type": "stream",
          "text": [
            "ResNets(\n",
            "  (conv1): Conv2d(3, 64, kernel_size=(7, 7), stride=(2, 2))\n",
            "  (bn1): BatchNorm2d(64, eps=1e-05, momentum=0.1, affine=True, track_running_stats=True)\n",
            "  (maxpool): MaxPool2d(kernel_size=3, stride=2, padding=1, dilation=1, ceil_mode=False)\n",
            "  (layer1): Sequential(\n",
            "    (0): BasicBlock(\n",
            "      (conv1): Conv2d(64, 64, kernel_size=(3, 3), stride=(1, 1), padding=(1, 1))\n",
            "      (bn1): BatchNorm2d(64, eps=1e-05, momentum=0.1, affine=True, track_running_stats=True)\n",
            "      (conv2): Conv2d(64, 64, kernel_size=(3, 3), stride=(1, 1), padding=(1, 1))\n",
            "      (bn2): BatchNorm2d(64, eps=1e-05, momentum=0.1, affine=True, track_running_stats=True)\n",
            "    )\n",
            "    (1): BasicBlock(\n",
            "      (conv1): Conv2d(64, 64, kernel_size=(3, 3), stride=(1, 1), padding=(1, 1))\n",
            "      (bn1): BatchNorm2d(64, eps=1e-05, momentum=0.1, affine=True, track_running_stats=True)\n",
            "      (conv2): Conv2d(64, 64, kernel_size=(3, 3), stride=(1, 1), padding=(1, 1))\n",
            "      (bn2): BatchNorm2d(64, eps=1e-05, momentum=0.1, affine=True, track_running_stats=True)\n",
            "    )\n",
            "  )\n",
            "  (layer2): Sequential(\n",
            "    (0): BasicBlock(\n",
            "      (conv1): Conv2d(64, 128, kernel_size=(3, 3), stride=(2, 2), padding=(1, 1))\n",
            "      (bn1): BatchNorm2d(128, eps=1e-05, momentum=0.1, affine=True, track_running_stats=True)\n",
            "      (conv2): Conv2d(128, 128, kernel_size=(3, 3), stride=(1, 1), padding=(1, 1))\n",
            "      (bn2): BatchNorm2d(128, eps=1e-05, momentum=0.1, affine=True, track_running_stats=True)\n",
            "      (dim_change): Sequential(\n",
            "        (0): Conv2d(64, 128, kernel_size=(1, 1), stride=(2, 2))\n",
            "        (1): BatchNorm2d(128, eps=1e-05, momentum=0.1, affine=True, track_running_stats=True)\n",
            "      )\n",
            "    )\n",
            "    (1): BasicBlock(\n",
            "      (conv1): Conv2d(128, 128, kernel_size=(3, 3), stride=(1, 1), padding=(1, 1))\n",
            "      (bn1): BatchNorm2d(128, eps=1e-05, momentum=0.1, affine=True, track_running_stats=True)\n",
            "      (conv2): Conv2d(128, 128, kernel_size=(3, 3), stride=(1, 1), padding=(1, 1))\n",
            "      (bn2): BatchNorm2d(128, eps=1e-05, momentum=0.1, affine=True, track_running_stats=True)\n",
            "    )\n",
            "  )\n",
            "  (layer3): Sequential(\n",
            "    (0): BasicBlock(\n",
            "      (conv1): Conv2d(128, 256, kernel_size=(3, 3), stride=(2, 2), padding=(1, 1))\n",
            "      (bn1): BatchNorm2d(256, eps=1e-05, momentum=0.1, affine=True, track_running_stats=True)\n",
            "      (conv2): Conv2d(256, 256, kernel_size=(3, 3), stride=(1, 1), padding=(1, 1))\n",
            "      (bn2): BatchNorm2d(256, eps=1e-05, momentum=0.1, affine=True, track_running_stats=True)\n",
            "      (dim_change): Sequential(\n",
            "        (0): Conv2d(128, 256, kernel_size=(1, 1), stride=(2, 2))\n",
            "        (1): BatchNorm2d(256, eps=1e-05, momentum=0.1, affine=True, track_running_stats=True)\n",
            "      )\n",
            "    )\n",
            "    (1): BasicBlock(\n",
            "      (conv1): Conv2d(256, 256, kernel_size=(3, 3), stride=(1, 1), padding=(1, 1))\n",
            "      (bn1): BatchNorm2d(256, eps=1e-05, momentum=0.1, affine=True, track_running_stats=True)\n",
            "      (conv2): Conv2d(256, 256, kernel_size=(3, 3), stride=(1, 1), padding=(1, 1))\n",
            "      (bn2): BatchNorm2d(256, eps=1e-05, momentum=0.1, affine=True, track_running_stats=True)\n",
            "    )\n",
            "  )\n",
            "  (layer4): Sequential(\n",
            "    (0): BasicBlock(\n",
            "      (conv1): Conv2d(256, 512, kernel_size=(3, 3), stride=(2, 2), padding=(1, 1))\n",
            "      (bn1): BatchNorm2d(512, eps=1e-05, momentum=0.1, affine=True, track_running_stats=True)\n",
            "      (conv2): Conv2d(512, 512, kernel_size=(3, 3), stride=(1, 1), padding=(1, 1))\n",
            "      (bn2): BatchNorm2d(512, eps=1e-05, momentum=0.1, affine=True, track_running_stats=True)\n",
            "      (dim_change): Sequential(\n",
            "        (0): Conv2d(256, 512, kernel_size=(1, 1), stride=(2, 2))\n",
            "        (1): BatchNorm2d(512, eps=1e-05, momentum=0.1, affine=True, track_running_stats=True)\n",
            "      )\n",
            "    )\n",
            "    (1): BasicBlock(\n",
            "      (conv1): Conv2d(512, 512, kernel_size=(3, 3), stride=(1, 1), padding=(1, 1))\n",
            "      (bn1): BatchNorm2d(512, eps=1e-05, momentum=0.1, affine=True, track_running_stats=True)\n",
            "      (conv2): Conv2d(512, 512, kernel_size=(3, 3), stride=(1, 1), padding=(1, 1))\n",
            "      (bn2): BatchNorm2d(512, eps=1e-05, momentum=0.1, affine=True, track_running_stats=True)\n",
            "    )\n",
            "  )\n",
            "  (avgpool): AvgPool2d(kernel_size=4, stride=1, padding=0)\n",
            "  (fc): Linear(in_features=512, out_features=10, bias=True)\n",
            ")\n",
            "\u001b[91m\n",
            " Built in Resnet for comparison \n",
            "\u001b[0m\n",
            "ResNet(\n",
            "  (conv1): Conv2d(3, 64, kernel_size=(7, 7), stride=(2, 2), padding=(3, 3), bias=False)\n",
            "  (bn1): BatchNorm2d(64, eps=1e-05, momentum=0.1, affine=True, track_running_stats=True)\n",
            "  (relu): ReLU(inplace)\n",
            "  (maxpool): MaxPool2d(kernel_size=3, stride=2, padding=1, dilation=1, ceil_mode=False)\n",
            "  (layer1): Sequential(\n",
            "    (0): BasicBlock(\n",
            "      (conv1): Conv2d(64, 64, kernel_size=(3, 3), stride=(1, 1), padding=(1, 1), bias=False)\n",
            "      (bn1): BatchNorm2d(64, eps=1e-05, momentum=0.1, affine=True, track_running_stats=True)\n",
            "      (relu): ReLU(inplace)\n",
            "      (conv2): Conv2d(64, 64, kernel_size=(3, 3), stride=(1, 1), padding=(1, 1), bias=False)\n",
            "      (bn2): BatchNorm2d(64, eps=1e-05, momentum=0.1, affine=True, track_running_stats=True)\n",
            "    )\n",
            "    (1): BasicBlock(\n",
            "      (conv1): Conv2d(64, 64, kernel_size=(3, 3), stride=(1, 1), padding=(1, 1), bias=False)\n",
            "      (bn1): BatchNorm2d(64, eps=1e-05, momentum=0.1, affine=True, track_running_stats=True)\n",
            "      (relu): ReLU(inplace)\n",
            "      (conv2): Conv2d(64, 64, kernel_size=(3, 3), stride=(1, 1), padding=(1, 1), bias=False)\n",
            "      (bn2): BatchNorm2d(64, eps=1e-05, momentum=0.1, affine=True, track_running_stats=True)\n",
            "    )\n",
            "  )\n",
            "  (layer2): Sequential(\n",
            "    (0): BasicBlock(\n",
            "      (conv1): Conv2d(64, 128, kernel_size=(3, 3), stride=(2, 2), padding=(1, 1), bias=False)\n",
            "      (bn1): BatchNorm2d(128, eps=1e-05, momentum=0.1, affine=True, track_running_stats=True)\n",
            "      (relu): ReLU(inplace)\n",
            "      (conv2): Conv2d(128, 128, kernel_size=(3, 3), stride=(1, 1), padding=(1, 1), bias=False)\n",
            "      (bn2): BatchNorm2d(128, eps=1e-05, momentum=0.1, affine=True, track_running_stats=True)\n",
            "      (downsample): Sequential(\n",
            "        (0): Conv2d(64, 128, kernel_size=(1, 1), stride=(2, 2), bias=False)\n",
            "        (1): BatchNorm2d(128, eps=1e-05, momentum=0.1, affine=True, track_running_stats=True)\n",
            "      )\n",
            "    )\n",
            "    (1): BasicBlock(\n",
            "      (conv1): Conv2d(128, 128, kernel_size=(3, 3), stride=(1, 1), padding=(1, 1), bias=False)\n",
            "      (bn1): BatchNorm2d(128, eps=1e-05, momentum=0.1, affine=True, track_running_stats=True)\n",
            "      (relu): ReLU(inplace)\n",
            "      (conv2): Conv2d(128, 128, kernel_size=(3, 3), stride=(1, 1), padding=(1, 1), bias=False)\n",
            "      (bn2): BatchNorm2d(128, eps=1e-05, momentum=0.1, affine=True, track_running_stats=True)\n",
            "    )\n",
            "  )\n",
            "  (layer3): Sequential(\n",
            "    (0): BasicBlock(\n",
            "      (conv1): Conv2d(128, 256, kernel_size=(3, 3), stride=(2, 2), padding=(1, 1), bias=False)\n",
            "      (bn1): BatchNorm2d(256, eps=1e-05, momentum=0.1, affine=True, track_running_stats=True)\n",
            "      (relu): ReLU(inplace)\n",
            "      (conv2): Conv2d(256, 256, kernel_size=(3, 3), stride=(1, 1), padding=(1, 1), bias=False)\n",
            "      (bn2): BatchNorm2d(256, eps=1e-05, momentum=0.1, affine=True, track_running_stats=True)\n",
            "      (downsample): Sequential(\n",
            "        (0): Conv2d(128, 256, kernel_size=(1, 1), stride=(2, 2), bias=False)\n",
            "        (1): BatchNorm2d(256, eps=1e-05, momentum=0.1, affine=True, track_running_stats=True)\n",
            "      )\n",
            "    )\n",
            "    (1): BasicBlock(\n",
            "      (conv1): Conv2d(256, 256, kernel_size=(3, 3), stride=(1, 1), padding=(1, 1), bias=False)\n",
            "      (bn1): BatchNorm2d(256, eps=1e-05, momentum=0.1, affine=True, track_running_stats=True)\n",
            "      (relu): ReLU(inplace)\n",
            "      (conv2): Conv2d(256, 256, kernel_size=(3, 3), stride=(1, 1), padding=(1, 1), bias=False)\n",
            "      (bn2): BatchNorm2d(256, eps=1e-05, momentum=0.1, affine=True, track_running_stats=True)\n",
            "    )\n",
            "  )\n",
            "  (layer4): Sequential(\n",
            "    (0): BasicBlock(\n",
            "      (conv1): Conv2d(256, 512, kernel_size=(3, 3), stride=(2, 2), padding=(1, 1), bias=False)\n",
            "      (bn1): BatchNorm2d(512, eps=1e-05, momentum=0.1, affine=True, track_running_stats=True)\n",
            "      (relu): ReLU(inplace)\n",
            "      (conv2): Conv2d(512, 512, kernel_size=(3, 3), stride=(1, 1), padding=(1, 1), bias=False)\n",
            "      (bn2): BatchNorm2d(512, eps=1e-05, momentum=0.1, affine=True, track_running_stats=True)\n",
            "      (downsample): Sequential(\n",
            "        (0): Conv2d(256, 512, kernel_size=(1, 1), stride=(2, 2), bias=False)\n",
            "        (1): BatchNorm2d(512, eps=1e-05, momentum=0.1, affine=True, track_running_stats=True)\n",
            "      )\n",
            "    )\n",
            "    (1): BasicBlock(\n",
            "      (conv1): Conv2d(512, 512, kernel_size=(3, 3), stride=(1, 1), padding=(1, 1), bias=False)\n",
            "      (bn1): BatchNorm2d(512, eps=1e-05, momentum=0.1, affine=True, track_running_stats=True)\n",
            "      (relu): ReLU(inplace)\n",
            "      (conv2): Conv2d(512, 512, kernel_size=(3, 3), stride=(1, 1), padding=(1, 1), bias=False)\n",
            "      (bn2): BatchNorm2d(512, eps=1e-05, momentum=0.1, affine=True, track_running_stats=True)\n",
            "    )\n",
            "  )\n",
            "  (avgpool): AdaptiveAvgPool2d(output_size=(1, 1))\n",
            "  (fc): Linear(in_features=512, out_features=1000, bias=True)\n",
            ")\n"
          ],
          "name": "stdout"
        }
      ]
    },
    {
      "cell_type": "markdown",
      "metadata": {
        "id": "6IaboaFrnbJ_",
        "colab_type": "text"
      },
      "source": [
        "##Viewing the model"
      ]
    },
    {
      "cell_type": "code",
      "metadata": {
        "id": "ANgZouKIfHQn",
        "colab_type": "code",
        "colab": {
          "base_uri": "https://localhost:8080/",
          "height": 84
        },
        "outputId": "f8a647d7-798a-4577-c1c6-efad43b97420"
      },
      "source": [
        "!pip install hiddenlayer\n",
        "import hiddenlayer as hl"
      ],
      "execution_count": 45,
      "outputs": [
        {
          "output_type": "stream",
          "text": [
            "Collecting hiddenlayer\n",
            "  Downloading https://files.pythonhosted.org/packages/b5/80/f284e0441945341c2fe669d70a17277746baf891fe4e517dcbe7784cbf24/hiddenlayer-0.2-py3-none-any.whl\n",
            "Installing collected packages: hiddenlayer\n",
            "Successfully installed hiddenlayer-0.2\n"
          ],
          "name": "stdout"
        }
      ]
    },
    {
      "cell_type": "code",
      "metadata": {
        "id": "UkNcLSAzGVy4",
        "colab_type": "code",
        "colab": {}
      },
      "source": [
        ""
      ],
      "execution_count": 0,
      "outputs": []
    }
  ]
}