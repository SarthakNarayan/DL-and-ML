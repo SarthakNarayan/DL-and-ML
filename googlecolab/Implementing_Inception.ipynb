{
  "nbformat": 4,
  "nbformat_minor": 0,
  "metadata": {
    "colab": {
      "name": "Implementing Inception.ipynb",
      "version": "0.3.2",
      "provenance": [],
      "include_colab_link": true
    },
    "kernelspec": {
      "name": "python3",
      "display_name": "Python 3"
    },
    "accelerator": "GPU"
  },
  "cells": [
    {
      "cell_type": "markdown",
      "metadata": {
        "id": "view-in-github",
        "colab_type": "text"
      },
      "source": [
        "<a href=\"https://colab.research.google.com/github/SarthakNarayan/DL-and-ML/blob/master/googlecolab/Implementing_Inception.ipynb\" target=\"_parent\"><img src=\"https://colab.research.google.com/assets/colab-badge.svg\" alt=\"Open In Colab\"/></a>"
      ]
    },
    {
      "cell_type": "markdown",
      "metadata": {
        "id": "ooC0HH7KiRM2",
        "colab_type": "text"
      },
      "source": [
        "##Imports Section"
      ]
    },
    {
      "cell_type": "code",
      "metadata": {
        "id": "dxfvOd2Tw9K5",
        "colab_type": "code",
        "colab": {}
      },
      "source": [
        "import torch\n",
        "import torch.nn as nn\n",
        "import torch.nn.functional as F"
      ],
      "execution_count": 0,
      "outputs": []
    },
    {
      "cell_type": "markdown",
      "metadata": {
        "id": "cUlx6TOui9Sz",
        "colab_type": "text"
      },
      "source": [
        "##Inception Structure\n",
        "![alt text](https://www.oreilly.com/library/view/python-deep-learning/9781789348460/assets/954ea76d-97e0-47b1-8cf6-7e1ba4601cbd.png)\n",
        "\n",
        "There are many versions of inception we will be implementing the one mention in the link below<br/>\n",
        "https://drive.google.com/open?id=1jftGgnGQVuM1ThsSn48EIk7GlSvqgtFE"
      ]
    },
    {
      "cell_type": "code",
      "metadata": {
        "id": "7z0j4SividEn",
        "colab_type": "code",
        "colab": {
          "base_uri": "https://localhost:8080/",
          "height": 109
        },
        "outputId": "6399842e-b383-4fa3-fc89-59ef6157e986"
      },
      "source": [
        "# Implementing an inception block\n",
        "class Inception(nn.Module):\n",
        "    def __init__(self , input_channels):\n",
        "        super(Inception , self).__init__()\n",
        "        self.conv1 = nn.Conv2d(input_channels , 16 , stride=1 , kernel_size = 1)\n",
        "        \n",
        "        self.conv2 = nn.Conv2d(input_channels , 16 , stride=1 , kernel_size = 1)\n",
        "        # padding of 2 so that dimensions of image remain same\n",
        "        self.conv3 = nn.Conv2d(16 , 24 , stride=1 , kernel_size = 5 , padding = 2)\n",
        "        \n",
        "        # No need of padding for 1*1 convolutions since size always remains same\n",
        "        self.conv4 = nn.Conv2d(input_channels , 16 , stride=1 , kernel_size = 1)\n",
        "        self.conv5 = nn.Conv2d(16 , 24 , stride=1 , kernel_size = 3 , padding = 1)\n",
        "        self.conv6 = nn.Conv2d(24 , 24 , stride=1 , kernel_size = 3 , padding = 1)\n",
        "        \n",
        "        self.conv7 = nn.Conv2d(input_channels , 24 , stride=1 , kernel_size = 1)\n",
        "        \n",
        "    def forward(self , x):\n",
        "        out1 = self.conv1(x)\n",
        "        \n",
        "        out2 = self.conv2(x)\n",
        "        out2 = self.conv3(out2)\n",
        "        \n",
        "        out3 = self.conv4(x)\n",
        "        out3 = self.conv5(out3)\n",
        "        out3 = self.conv6(out3)\n",
        "        \n",
        "        out4 = F.avg_pool2d(x , 3 , stride = 1 , padding = 1)\n",
        "        out4 = self.conv7(out4)        \n",
        "        \n",
        "        # shapes of the outputs\n",
        "        # While training and prediction remove the print statements\n",
        "        print(\"Output 1 {}\".format(out1.shape))\n",
        "        print(\"Output 2 {}\".format(out2.shape))\n",
        "        print(\"Output 3 {}\".format(out3.shape))\n",
        "        print(\"Output 4 {}\".format(out4.shape))\n",
        "        \n",
        "        # now we have to concat the outputs\n",
        "        # Shapes of the tensor being concated should match\n",
        "        outputs = [out1,out2,out3,out4]\n",
        "        output = torch.cat(outputs , 1)\n",
        "        print(\"Concatenated Output {}\".format(output.shape))\n",
        "        return output\n",
        "    \n",
        "inception = Inception(3)\n",
        "x = torch.randn(1,3,32,32)\n",
        "y = inception(x)"
      ],
      "execution_count": 3,
      "outputs": [
        {
          "output_type": "stream",
          "text": [
            "Output 1 torch.Size([1, 16, 32, 32])\n",
            "Output 2 torch.Size([1, 24, 32, 32])\n",
            "Output 3 torch.Size([1, 24, 32, 32])\n",
            "Output 4 torch.Size([1, 24, 32, 32])\n",
            "Concatenated Output torch.Size([1, 88, 32, 32])\n"
          ],
          "name": "stdout"
        }
      ]
    },
    {
      "cell_type": "markdown",
      "metadata": {
        "id": "ZM4ZHJnyvdnz",
        "colab_type": "text"
      },
      "source": [
        "##Viewing the model"
      ]
    },
    {
      "cell_type": "code",
      "metadata": {
        "id": "T7deGFn7tvrw",
        "colab_type": "code",
        "colab": {}
      },
      "source": [
        "!pip install onnx\n",
        "dummy_input = torch.randn(1, 3, 32, 32)\n",
        "torch.onnx.export(inception, dummy_input, \"inception.onnx\")\n",
        "print(\"Model Exported for viewing\")"
      ],
      "execution_count": 0,
      "outputs": []
    },
    {
      "cell_type": "markdown",
      "metadata": {
        "id": "75uDwCjtzaJT",
        "colab_type": "text"
      },
      "source": [
        "##Using Inception in a full Network"
      ]
    },
    {
      "cell_type": "code",
      "metadata": {
        "id": "FaXxSoeyzeCQ",
        "colab_type": "code",
        "colab": {
          "base_uri": "https://localhost:8080/",
          "height": 239
        },
        "outputId": "d6fe4f0d-a386-4788-bfe5-12ae17324e0d"
      },
      "source": [
        "class Net(nn.Module):\n",
        "    def __init__(self):\n",
        "        super(Net , self).__init__()\n",
        "        \n",
        "        self.conv1 = nn.Conv2d(3,10,stride = 1 , kernel_size = 3)\n",
        "        self.inception1 = Inception(10)\n",
        "        self.conv2 = nn.Conv2d(88,20,stride = 1 , kernel_size = 3)\n",
        "        self.inception2 = Inception(20)\n",
        "        self.fc = nn.Linear(3168,10)\n",
        "        self.mp = nn.MaxPool2d(2)\n",
        "        \n",
        "    def forward(self , x):\n",
        "        x = F.relu(self.mp(self.conv1(x)))\n",
        "        x = self.inception1(x)\n",
        "        x = F.relu(self.mp(self.conv2(x)))\n",
        "        x = self.inception2(x)\n",
        "        print(x.shape)\n",
        "        # always do this step when going from convolutional to linear\n",
        "        x = x.view(x.size(0) , -1)\n",
        "        print(x.shape)\n",
        "        x = self.fc(x)\n",
        "        return x\n",
        "    \n",
        "net = Net()\n",
        "x = torch.randn(1,3,32,32)\n",
        "y = net(x)"
      ],
      "execution_count": 8,
      "outputs": [
        {
          "output_type": "stream",
          "text": [
            "Output 1 torch.Size([1, 16, 15, 15])\n",
            "Output 2 torch.Size([1, 24, 15, 15])\n",
            "Output 3 torch.Size([1, 24, 15, 15])\n",
            "Output 4 torch.Size([1, 24, 15, 15])\n",
            "Concatenated Output torch.Size([1, 88, 15, 15])\n",
            "Output 1 torch.Size([1, 16, 6, 6])\n",
            "Output 2 torch.Size([1, 24, 6, 6])\n",
            "Output 3 torch.Size([1, 24, 6, 6])\n",
            "Output 4 torch.Size([1, 24, 6, 6])\n",
            "Concatenated Output torch.Size([1, 88, 6, 6])\n",
            "torch.Size([1, 88, 6, 6])\n",
            "torch.Size([1, 3168])\n"
          ],
          "name": "stdout"
        }
      ]
    },
    {
      "cell_type": "markdown",
      "metadata": {
        "id": "UuJwYF1F_8Sz",
        "colab_type": "text"
      },
      "source": [
        "##Viewing the full model"
      ]
    },
    {
      "cell_type": "code",
      "metadata": {
        "id": "mvWkUBHv-vNP",
        "colab_type": "code",
        "colab": {}
      },
      "source": [
        "dummy_input = torch.randn(1, 3, 32, 32)\n",
        "torch.onnx.export(net, dummy_input, \"net.onnx\")\n",
        "print(\"Model Exported for viewing\")"
      ],
      "execution_count": 0,
      "outputs": []
    }
  ]
}