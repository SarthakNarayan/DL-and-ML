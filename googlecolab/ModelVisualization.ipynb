{
  "nbformat": 4,
  "nbformat_minor": 0,
  "metadata": {
    "colab": {
      "name": "ModelVisualization.ipynb",
      "version": "0.3.2",
      "provenance": [],
      "collapsed_sections": [],
      "include_colab_link": true
    },
    "kernelspec": {
      "name": "python3",
      "display_name": "Python 3"
    },
    "accelerator": "GPU"
  },
  "cells": [
    {
      "cell_type": "markdown",
      "metadata": {
        "id": "view-in-github",
        "colab_type": "text"
      },
      "source": [
        "<a href=\"https://colab.research.google.com/github/SarthakNarayan/DL-and-ML/blob/master/googlecolab/ModelVisualization.ipynb\" target=\"_parent\"><img src=\"https://colab.research.google.com/assets/colab-badge.svg\" alt=\"Open In Colab\"/></a>"
      ]
    },
    {
      "cell_type": "markdown",
      "metadata": {
        "id": "pJ8DY7DNiVGI",
        "colab_type": "text"
      },
      "source": [
        "#Using Hidden Layer\n",
        "<https://github.com/waleedka/hiddenlayer>"
      ]
    },
    {
      "cell_type": "code",
      "metadata": {
        "id": "PhGTjfkPiPrQ",
        "colab_type": "code",
        "colab": {}
      },
      "source": [
        "!pip install hiddenlayer"
      ],
      "execution_count": 0,
      "outputs": []
    },
    {
      "cell_type": "code",
      "metadata": {
        "id": "SisV_fNOiuZl",
        "colab_type": "code",
        "colab": {}
      },
      "source": [
        "import torch\n",
        "import torchvision.models\n",
        "import hiddenlayer as hl"
      ],
      "execution_count": 0,
      "outputs": []
    },
    {
      "cell_type": "code",
      "metadata": {
        "id": "dC6lT8j0ivge",
        "colab_type": "code",
        "colab": {}
      },
      "source": [
        "model = torchvision.models.vgg16()\n",
        "\n",
        "# Build HiddenLayer graph\n",
        "hl.build_graph(model, torch.zeros([1, 3, 224, 224]))"
      ],
      "execution_count": 0,
      "outputs": []
    },
    {
      "cell_type": "code",
      "metadata": {
        "id": "m_Mf11i1jNS8",
        "colab_type": "code",
        "colab": {}
      },
      "source": [
        "from torch import nn\n",
        "import torch.nn.functional as F\n",
        "class Net(nn.Module):\n",
        "    def __init__(self):\n",
        "        super(Net, self).__init__()\n",
        "        self.conv1 = nn.Conv2d(1, 6, 5)\n",
        "        # First is the kernel size then stride in MaxPool2d\n",
        "        # reduces height and width by 2\n",
        "        # We use thr=e same MaxPool2d layer twice\n",
        "        self.pool = nn.MaxPool2d(2, 2)\n",
        "        self.conv2 = nn.Conv2d(6, 16, 5)\n",
        "        self.fc1 = nn.Linear(16 * 4 * 4, 120)\n",
        "        self.fc2 = nn.Linear(120, 84)\n",
        "        self.fc3 = nn.Linear(84, 10)\n",
        "\n",
        "    def forward(self, x):\n",
        "        x = self.pool(F.relu(self.conv1(x)))\n",
        "        x = self.pool(F.relu(self.conv2(x)))\n",
        "        x = x.view(-1, 16 * 4 * 4)\n",
        "        x = F.relu(self.fc1(x))\n",
        "        x = F.relu(self.fc2(x))\n",
        "        x = self.fc3(x)\n",
        "        return x\n",
        "\n",
        "net = Net()"
      ],
      "execution_count": 0,
      "outputs": []
    },
    {
      "cell_type": "code",
      "metadata": {
        "id": "08KJPHoPjXlT",
        "colab_type": "code",
        "colab": {}
      },
      "source": [
        "hl.build_graph(net, torch.zeros([1, 1, 28, 28]))"
      ],
      "execution_count": 0,
      "outputs": []
    },
    {
      "cell_type": "markdown",
      "metadata": {
        "id": "R_oqOpLsk32F",
        "colab_type": "text"
      },
      "source": [
        "#Netron\n",
        "<https://github.com/lutzroeder/netron>\n",
        "\n",
        "For visualizing<br/>\n",
        "https://lutzroeder.github.io/netron/\n",
        "\n",
        "Convert your model to onnx format and then visualize it."
      ]
    },
    {
      "cell_type": "code",
      "metadata": {
        "id": "0AFknf-Rk5o_",
        "colab_type": "code",
        "colab": {}
      },
      "source": [
        "!pip install onnx"
      ],
      "execution_count": 0,
      "outputs": []
    },
    {
      "cell_type": "code",
      "metadata": {
        "id": "s0hHqiAtlCCm",
        "colab_type": "code",
        "colab": {}
      },
      "source": [
        "dummy_input = torch.randn(1, 1, 28, 28)\n",
        "torch.onnx.export(net, dummy_input, \"mymodel.onnx\")"
      ],
      "execution_count": 0,
      "outputs": []
    }
  ]
}