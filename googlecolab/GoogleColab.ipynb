{
  "nbformat": 4,
  "nbformat_minor": 0,
  "metadata": {
    "colab": {
      "name": "Untitled0.ipynb",
      "version": "0.3.2",
      "provenance": [],
      "collapsed_sections": [],
      "include_colab_link": true
    },
    "kernelspec": {
      "name": "python3",
      "display_name": "Python 3"
    },
    "accelerator": "GPU"
  },
  "cells": [
    {
      "cell_type": "markdown",
      "metadata": {
        "id": "view-in-github",
        "colab_type": "text"
      },
      "source": [
        "<a href=\"https://colab.research.google.com/github/SarthakNarayan/DL-and-ML/blob/master/googlecolab/GoogleColab.ipynb\" target=\"_parent\"><img src=\"https://colab.research.google.com/assets/colab-badge.svg\" alt=\"Open In Colab\"/></a>"
      ]
    },
    {
      "cell_type": "code",
      "metadata": {
        "id": "4uTMq3lAI7Zt",
        "colab_type": "code",
        "outputId": "8d5f8ca0-8043-4fc8-aa55-41535b737c7e",
        "colab": {
          "base_uri": "https://localhost:8080/",
          "height": 124
        }
      },
      "source": [
        "import torch\n",
        "print(\"Torch imported\")\n",
        "def cuda_details():\n",
        "    '''\n",
        "    For providing details about the GPU used if it is being used.\n",
        "    '''\n",
        "    if torch.cuda.is_available():\n",
        "        current_device = torch.cuda.current_device()\n",
        "        print(\"Number of GPU's Present {}\".format(torch.cuda.device_count()))\n",
        "        print(\"The device name is {}\".format(torch.cuda.get_device_name(current_device)))\n",
        "        print(\"The device properties are {}\".format(torch.cuda.get_device_properties(current_device)))\n",
        "        print(\"The device capability is {}\".format(torch.cuda.get_device_capability(current_device)))\n",
        "    else:\n",
        "        print(\"No GPU present\")\n",
        "cuda_details() "
      ],
      "execution_count": 0,
      "outputs": [
        {
          "output_type": "stream",
          "text": [
            "Torch imported\n",
            "Number of GPU's Present 1\n",
            "The device name is Tesla T4\n",
            "The device properties are _CudaDeviceProperties(name='Tesla T4', major=7, minor=5, total_memory=15079MB, multi_processor_count=40)\n",
            "The device capability is (7, 5)\n"
          ],
          "name": "stdout"
        }
      ]
    },
    {
      "cell_type": "code",
      "metadata": {
        "id": "ro2BJS5iil4Y",
        "colab_type": "code",
        "colab": {}
      },
      "source": [
        "# memory footprint support libraries/code\n",
        "!ln -sf /opt/bin/nvidia-smi /usr/bin/nvidia-smi\n",
        "!pip install gputil\n",
        "!pip install psutil\n",
        "!pip install humanize\n",
        "import psutil\n",
        "import humanize\n",
        "import os\n",
        "import GPUtil as GPU\n",
        "GPUs = GPU.getGPUs()\n",
        "# XXX: only one GPU on Colab and isn’t guaranteed\n",
        "gpu = GPUs[0]\n",
        "def printm():\n",
        " process = psutil.Process(os.getpid())\n",
        " print(\"Gen RAM Free: \" + humanize.naturalsize( psutil.virtual_memory().available ), \" | Proc size: \" + humanize.naturalsize( process.memory_info().rss))\n",
        " print(\"GPU RAM Free: {0:.0f}MB | Used: {1:.0f}MB | Util {2:3.0f}% | Total {3:.0f}MB\".format(gpu.memoryFree, gpu.memoryUsed, gpu.memoryUtil*100, gpu.memoryTotal))\n",
        "printm()"
      ],
      "execution_count": 0,
      "outputs": []
    },
    {
      "cell_type": "code",
      "metadata": {
        "id": "GJWtytN3mD0B",
        "colab_type": "code",
        "colab": {}
      },
      "source": [
        "import torchvision"
      ],
      "execution_count": 0,
      "outputs": []
    },
    {
      "cell_type": "code",
      "metadata": {
        "id": "ZYngydaPmYzN",
        "colab_type": "code",
        "colab": {}
      },
      "source": [
        "torchvision.datasets.FashionMNIST()"
      ],
      "execution_count": 0,
      "outputs": []
    },
    {
      "cell_type": "code",
      "metadata": {
        "id": "NhQzk90qmphm",
        "colab_type": "code",
        "colab": {}
      },
      "source": [
        "help(torchvision.datasets.FashionMNIST)"
      ],
      "execution_count": 0,
      "outputs": []
    },
    {
      "cell_type": "code",
      "metadata": {
        "id": "N35_h7owtEQB",
        "colab_type": "code",
        "outputId": "982aa0cf-d7a4-4727-93fc-b59c1774475d",
        "colab": {
          "base_uri": "https://localhost:8080/",
          "height": 521
        }
      },
      "source": [
        "!pip install visdom\n"
      ],
      "execution_count": 0,
      "outputs": [
        {
          "output_type": "stream",
          "text": [
            "Collecting visdom\n",
            "\u001b[?25l  Downloading https://files.pythonhosted.org/packages/97/c4/5f5356fd57ae3c269e0e31601ea6487e0622fedc6756a591e4a5fd66cc7a/visdom-0.1.8.8.tar.gz (1.4MB)\n",
            "\r\u001b[K     |▎                               | 10kB 20.3MB/s eta 0:00:01\r\u001b[K     |▌                               | 20kB 6.1MB/s eta 0:00:01\r\u001b[K     |▊                               | 30kB 8.7MB/s eta 0:00:01\r\u001b[K     |█                               | 40kB 5.4MB/s eta 0:00:01\r\u001b[K     |█▏                              | 51kB 6.6MB/s eta 0:00:01\r\u001b[K     |█▍                              | 61kB 7.8MB/s eta 0:00:01\r\u001b[K     |█▊                              | 71kB 9.0MB/s eta 0:00:01\r\u001b[K     |██                              | 81kB 10.1MB/s eta 0:00:01\r\u001b[K     |██▏                             | 92kB 11.1MB/s eta 0:00:01\r\u001b[K     |██▍                             | 102kB 8.8MB/s eta 0:00:01\r\u001b[K     |██▋                             | 112kB 8.8MB/s eta 0:00:01\r\u001b[K     |██▉                             | 122kB 8.8MB/s eta 0:00:01\r\u001b[K     |███▏                            | 133kB 8.8MB/s eta 0:00:01\r\u001b[K     |███▍                            | 143kB 8.8MB/s eta 0:00:01\r\u001b[K     |███▋                            | 153kB 8.8MB/s eta 0:00:01\r\u001b[K     |███▉                            | 163kB 8.8MB/s eta 0:00:01\r\u001b[K     |████                            | 174kB 8.8MB/s eta 0:00:01\r\u001b[K     |████▎                           | 184kB 8.8MB/s eta 0:00:01\r\u001b[K     |████▋                           | 194kB 8.8MB/s eta 0:00:01\r\u001b[K     |████▉                           | 204kB 8.8MB/s eta 0:00:01\r\u001b[K     |█████                           | 215kB 8.8MB/s eta 0:00:01\r\u001b[K     |█████▎                          | 225kB 8.8MB/s eta 0:00:01\r\u001b[K     |█████▌                          | 235kB 8.8MB/s eta 0:00:01\r\u001b[K     |█████▊                          | 245kB 8.8MB/s eta 0:00:01\r\u001b[K     |██████                          | 256kB 8.8MB/s eta 0:00:01\r\u001b[K     |██████▎                         | 266kB 8.8MB/s eta 0:00:01\r\u001b[K     |██████▌                         | 276kB 8.8MB/s eta 0:00:01\r\u001b[K     |██████▊                         | 286kB 8.8MB/s eta 0:00:01\r\u001b[K     |███████                         | 296kB 8.8MB/s eta 0:00:01\r\u001b[K     |███████▏                        | 307kB 8.8MB/s eta 0:00:01\r\u001b[K     |███████▍                        | 317kB 8.8MB/s eta 0:00:01\r\u001b[K     |███████▊                        | 327kB 8.8MB/s eta 0:00:01\r\u001b[K     |████████                        | 337kB 8.8MB/s eta 0:00:01\r\u001b[K     |████████▏                       | 348kB 8.8MB/s eta 0:00:01\r\u001b[K     |████████▍                       | 358kB 8.8MB/s eta 0:00:01\r\u001b[K     |████████▋                       | 368kB 8.8MB/s eta 0:00:01\r\u001b[K     |████████▉                       | 378kB 8.8MB/s eta 0:00:01\r\u001b[K     |█████████▏                      | 389kB 8.8MB/s eta 0:00:01\r\u001b[K     |█████████▍                      | 399kB 8.8MB/s eta 0:00:01\r\u001b[K     |█████████▋                      | 409kB 8.8MB/s eta 0:00:01\r\u001b[K     |█████████▉                      | 419kB 8.8MB/s eta 0:00:01\r\u001b[K     |██████████                      | 430kB 8.8MB/s eta 0:00:01\r\u001b[K     |██████████▎                     | 440kB 8.8MB/s eta 0:00:01\r\u001b[K     |██████████▋                     | 450kB 8.8MB/s eta 0:00:01\r\u001b[K     |██████████▉                     | 460kB 8.8MB/s eta 0:00:01\r\u001b[K     |███████████                     | 471kB 8.8MB/s eta 0:00:01\r\u001b[K     |███████████▎                    | 481kB 8.8MB/s eta 0:00:01\r\u001b[K     |███████████▌                    | 491kB 8.8MB/s eta 0:00:01\r\u001b[K     |███████████▊                    | 501kB 8.8MB/s eta 0:00:01\r\u001b[K     |████████████                    | 512kB 8.8MB/s eta 0:00:01\r\u001b[K     |████████████▎                   | 522kB 8.8MB/s eta 0:00:01\r\u001b[K     |████████████▌                   | 532kB 8.8MB/s eta 0:00:01\r\u001b[K     |████████████▊                   | 542kB 8.8MB/s eta 0:00:01\r\u001b[K     |█████████████                   | 552kB 8.8MB/s eta 0:00:01\r\u001b[K     |█████████████▏                  | 563kB 8.8MB/s eta 0:00:01\r\u001b[K     |█████████████▌                  | 573kB 8.8MB/s eta 0:00:01\r\u001b[K     |█████████████▊                  | 583kB 8.8MB/s eta 0:00:01\r\u001b[K     |██████████████                  | 593kB 8.8MB/s eta 0:00:01\r\u001b[K     |██████████████▏                 | 604kB 8.8MB/s eta 0:00:01\r\u001b[K     |██████████████▍                 | 614kB 8.8MB/s eta 0:00:01\r\u001b[K     |██████████████▋                 | 624kB 8.8MB/s eta 0:00:01\r\u001b[K     |██████████████▉                 | 634kB 8.8MB/s eta 0:00:01\r\u001b[K     |███████████████▏                | 645kB 8.8MB/s eta 0:00:01\r\u001b[K     |███████████████▍                | 655kB 8.8MB/s eta 0:00:01\r\u001b[K     |███████████████▋                | 665kB 8.8MB/s eta 0:00:01\r\u001b[K     |███████████████▉                | 675kB 8.8MB/s eta 0:00:01\r\u001b[K     |████████████████                | 686kB 8.8MB/s eta 0:00:01\r\u001b[K     |████████████████▎               | 696kB 8.8MB/s eta 0:00:01\r\u001b[K     |████████████████▋               | 706kB 8.8MB/s eta 0:00:01\r\u001b[K     |████████████████▉               | 716kB 8.8MB/s eta 0:00:01\r\u001b[K     |█████████████████               | 727kB 8.8MB/s eta 0:00:01\r\u001b[K     |█████████████████▎              | 737kB 8.8MB/s eta 0:00:01\r\u001b[K     |█████████████████▌              | 747kB 8.8MB/s eta 0:00:01\r\u001b[K     |█████████████████▊              | 757kB 8.8MB/s eta 0:00:01\r\u001b[K     |██████████████████              | 768kB 8.8MB/s eta 0:00:01\r\u001b[K     |██████████████████▎             | 778kB 8.8MB/s eta 0:00:01\r\u001b[K     |██████████████████▌             | 788kB 8.8MB/s eta 0:00:01\r\u001b[K     |██████████████████▊             | 798kB 8.8MB/s eta 0:00:01\r\u001b[K     |███████████████████             | 808kB 8.8MB/s eta 0:00:01\r\u001b[K     |███████████████████▏            | 819kB 8.8MB/s eta 0:00:01\r\u001b[K     |███████████████████▌            | 829kB 8.8MB/s eta 0:00:01\r\u001b[K     |███████████████████▊            | 839kB 8.8MB/s eta 0:00:01\r\u001b[K     |████████████████████            | 849kB 8.8MB/s eta 0:00:01\r\u001b[K     |████████████████████▏           | 860kB 8.8MB/s eta 0:00:01\r\u001b[K     |████████████████████▍           | 870kB 8.8MB/s eta 0:00:01\r\u001b[K     |████████████████████▋           | 880kB 8.8MB/s eta 0:00:01\r\u001b[K     |█████████████████████           | 890kB 8.8MB/s eta 0:00:01\r\u001b[K     |█████████████████████▏          | 901kB 8.8MB/s eta 0:00:01\r\u001b[K     |█████████████████████▍          | 911kB 8.8MB/s eta 0:00:01\r\u001b[K     |█████████████████████▋          | 921kB 8.8MB/s eta 0:00:01\r\u001b[K     |█████████████████████▉          | 931kB 8.8MB/s eta 0:00:01\r\u001b[K     |██████████████████████          | 942kB 8.8MB/s eta 0:00:01\r\u001b[K     |██████████████████████▎         | 952kB 8.8MB/s eta 0:00:01\r\u001b[K     |██████████████████████▋         | 962kB 8.8MB/s eta 0:00:01\r\u001b[K     |██████████████████████▉         | 972kB 8.8MB/s eta 0:00:01\r\u001b[K     |███████████████████████         | 983kB 8.8MB/s eta 0:00:01\r\u001b[K     |███████████████████████▎        | 993kB 8.8MB/s eta 0:00:01\r\u001b[K     |███████████████████████▌        | 1.0MB 8.8MB/s eta 0:00:01\r\u001b[K     |███████████████████████▊        | 1.0MB 8.8MB/s eta 0:00:01\r\u001b[K     |████████████████████████        | 1.0MB 8.8MB/s eta 0:00:01\r\u001b[K     |████████████████████████▎       | 1.0MB 8.8MB/s eta 0:00:01\r\u001b[K     |████████████████████████▌       | 1.0MB 8.8MB/s eta 0:00:01\r\u001b[K     |████████████████████████▊       | 1.1MB 8.8MB/s eta 0:00:01\r\u001b[K     |█████████████████████████       | 1.1MB 8.8MB/s eta 0:00:01\r\u001b[K     |█████████████████████████▏      | 1.1MB 8.8MB/s eta 0:00:01\r\u001b[K     |█████████████████████████▌      | 1.1MB 8.8MB/s eta 0:00:01\r\u001b[K     |█████████████████████████▊      | 1.1MB 8.8MB/s eta 0:00:01\r\u001b[K     |██████████████████████████      | 1.1MB 8.8MB/s eta 0:00:01\r\u001b[K     |██████████████████████████▏     | 1.1MB 8.8MB/s eta 0:00:01\r\u001b[K     |██████████████████████████▍     | 1.1MB 8.8MB/s eta 0:00:01\r\u001b[K     |██████████████████████████▋     | 1.1MB 8.8MB/s eta 0:00:01\r\u001b[K     |███████████████████████████     | 1.1MB 8.8MB/s eta 0:00:01\r\u001b[K     |███████████████████████████▏    | 1.2MB 8.8MB/s eta 0:00:01\r\u001b[K     |███████████████████████████▍    | 1.2MB 8.8MB/s eta 0:00:01\r\u001b[K     |███████████████████████████▋    | 1.2MB 8.8MB/s eta 0:00:01\r\u001b[K     |███████████████████████████▉    | 1.2MB 8.8MB/s eta 0:00:01\r\u001b[K     |████████████████████████████    | 1.2MB 8.8MB/s eta 0:00:01\r\u001b[K     |████████████████████████████▍   | 1.2MB 8.8MB/s eta 0:00:01\r\u001b[K     |████████████████████████████▋   | 1.2MB 8.8MB/s eta 0:00:01\r\u001b[K     |████████████████████████████▉   | 1.2MB 8.8MB/s eta 0:00:01\r\u001b[K     |█████████████████████████████   | 1.2MB 8.8MB/s eta 0:00:01\r\u001b[K     |█████████████████████████████▎  | 1.2MB 8.8MB/s eta 0:00:01\r\u001b[K     |█████████████████████████████▌  | 1.3MB 8.8MB/s eta 0:00:01\r\u001b[K     |█████████████████████████████▊  | 1.3MB 8.8MB/s eta 0:00:01\r\u001b[K     |██████████████████████████████  | 1.3MB 8.8MB/s eta 0:00:01\r\u001b[K     |██████████████████████████████▎ | 1.3MB 8.8MB/s eta 0:00:01\r\u001b[K     |██████████████████████████████▌ | 1.3MB 8.8MB/s eta 0:00:01\r\u001b[K     |██████████████████████████████▊ | 1.3MB 8.8MB/s eta 0:00:01\r\u001b[K     |███████████████████████████████ | 1.3MB 8.8MB/s eta 0:00:01\r\u001b[K     |███████████████████████████████▏| 1.3MB 8.8MB/s eta 0:00:01\r\u001b[K     |███████████████████████████████▌| 1.3MB 8.8MB/s eta 0:00:01\r\u001b[K     |███████████████████████████████▊| 1.4MB 8.8MB/s eta 0:00:01\r\u001b[K     |████████████████████████████████| 1.4MB 8.8MB/s eta 0:00:01\r\u001b[K     |████████████████████████████████| 1.4MB 8.8MB/s \n",
            "\u001b[?25hRequirement already satisfied: numpy>=1.8 in /usr/local/lib/python3.6/dist-packages (from visdom) (1.16.4)\n",
            "Requirement already satisfied: scipy in /usr/local/lib/python3.6/dist-packages (from visdom) (1.3.0)\n",
            "Requirement already satisfied: requests in /usr/local/lib/python3.6/dist-packages (from visdom) (2.21.0)\n",
            "Requirement already satisfied: tornado in /usr/local/lib/python3.6/dist-packages (from visdom) (4.5.3)\n",
            "Requirement already satisfied: pyzmq in /usr/local/lib/python3.6/dist-packages (from visdom) (17.0.0)\n",
            "Requirement already satisfied: six in /usr/local/lib/python3.6/dist-packages (from visdom) (1.12.0)\n",
            "Collecting torchfile (from visdom)\n",
            "  Downloading https://files.pythonhosted.org/packages/91/af/5b305f86f2d218091af657ddb53f984ecbd9518ca9fe8ef4103a007252c9/torchfile-0.1.0.tar.gz\n",
            "Collecting websocket-client (from visdom)\n",
            "\u001b[?25l  Downloading https://files.pythonhosted.org/packages/29/19/44753eab1fdb50770ac69605527e8859468f3c0fd7dc5a76dd9c4dbd7906/websocket_client-0.56.0-py2.py3-none-any.whl (200kB)\n",
            "\u001b[K     |████████████████████████████████| 204kB 44.7MB/s \n",
            "\u001b[?25hRequirement already satisfied: pillow in /usr/local/lib/python3.6/dist-packages (from visdom) (4.3.0)\n",
            "Requirement already satisfied: idna<2.9,>=2.5 in /usr/local/lib/python3.6/dist-packages (from requests->visdom) (2.8)\n",
            "Requirement already satisfied: chardet<3.1.0,>=3.0.2 in /usr/local/lib/python3.6/dist-packages (from requests->visdom) (3.0.4)\n",
            "Requirement already satisfied: urllib3<1.25,>=1.21.1 in /usr/local/lib/python3.6/dist-packages (from requests->visdom) (1.24.3)\n",
            "Requirement already satisfied: certifi>=2017.4.17 in /usr/local/lib/python3.6/dist-packages (from requests->visdom) (2019.3.9)\n",
            "Requirement already satisfied: olefile in /usr/local/lib/python3.6/dist-packages (from pillow->visdom) (0.46)\n",
            "Building wheels for collected packages: visdom, torchfile\n",
            "  Building wheel for visdom (setup.py) ... \u001b[?25l\u001b[?25hdone\n",
            "  Stored in directory: /root/.cache/pip/wheels/ee/87/ce/a5023722374ca73b57fc8d4284ba6f973c01219b3c385a07e0\n",
            "  Building wheel for torchfile (setup.py) ... \u001b[?25l\u001b[?25hdone\n",
            "  Stored in directory: /root/.cache/pip/wheels/b1/c3/d6/9a1cc8f3a99a0fc1124cae20153f36af59a6e683daca0a0814\n",
            "Successfully built visdom torchfile\n",
            "Installing collected packages: torchfile, websocket-client, visdom\n",
            "Successfully installed torchfile-0.1.0 visdom-0.1.8.8 websocket-client-0.56.0\n"
          ],
          "name": "stdout"
        }
      ]
    }
  ]
}